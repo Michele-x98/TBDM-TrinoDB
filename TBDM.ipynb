{
 "cells": [
  {
   "cell_type": "code",
   "execution_count": null,
   "id": "a35897db",
   "metadata": {},
   "outputs": [],
   "source": [
    "import plotly.graph_objs as go\n",
    "import plotly.offline as pyo\n",
    "import plotly.express as px\n",
    "\n",
    "import pandas as pd\n",
    "\n",
    "from typing import List, Any\n",
    "from trino import dbapi\n",
    "\n",
    "\n",
    "pyo.init_notebook_mode()\n",
    "\n",
    "\n",
    "# Connection configuration to TrinoDB.\n",
    "conn = dbapi.connect(\n",
    "    host='51.103.220.68',\n",
    "    port=8080,\n",
    "    user='trino',\n",
    "    catalog='mongodb',\n",
    "    schema='ghdb',\n",
    ")\n",
    "\n",
    "# Cursor to make SQL query.\n",
    "cursor = conn.cursor()"
   ]
  },
  {
   "cell_type": "code",
   "execution_count": null,
   "id": "42bd4793",
   "metadata": {},
   "outputs": [],
   "source": [
    "def fetch(query: str, columns: List[str]) -> pd.DataFrame:\n",
    "    cursor.execute(query)\n",
    "    results = cursor.fetchall()\n",
    "\n",
    "    return pd.DataFrame(results, columns=columns)"
   ]
  },
  {
   "cell_type": "code",
   "execution_count": null,
   "id": "590f936c",
   "metadata": {
    "scrolled": false
   },
   "outputs": [],
   "source": [
    "# Return the number of user type.\n",
    "# [[User, 60], [Organization, 1]]\n",
    "dataframe = fetch('SELECT type, COUNT() AS count FROM users GROUP BY type', ['Type', 'Value'])\n",
    "\n",
    "fig = px.pie(dataframe, names='Type', values='Value')\n",
    "fig.show()"
   ]
  },
  {
   "cell_type": "code",
   "execution_count": null,
   "id": "321c4dba",
   "metadata": {
    "scrolled": false
   },
   "outputs": [],
   "source": [
    "dataframe = fetch(\n",
    "    'SELECT language, COUNT(*) AS count FROM repos WHERE language IS NOT NULL GROUP BY language ORDER BY count DESC LIMIT 5', \n",
    "    columns=['Language', 'Value']\n",
    ")\n",
    "\n",
    "fig = px.pie(dataframe, names='Language', values='Value')\n",
    "fig.show()"
   ]
  },
  {
   "cell_type": "code",
   "execution_count": null,
   "id": "987a96e2",
   "metadata": {
    "scrolled": false
   },
   "outputs": [],
   "source": [
    "dataframe = fetch(\n",
    "    'SELECT u.type, COUNT() AS count FROM users AS u JOIN repos AS r ON u.login = r.login GROUP BY u.type', \n",
    "    columns=['Type', 'Value']\n",
    ")\n",
    "\n",
    "fig = px.histogram(dataframe, x=\"Type\", y=\"Value\")\n",
    "fig.show()"
   ]
  },
  {
   "cell_type": "code",
   "execution_count": null,
   "id": "64f36a46",
   "metadata": {},
   "outputs": [],
   "source": [
    "dataframe = fetch(\n",
    "    'SELECT users.login, COUNT() as repo_count FROM users JOIN repos ON users.login = repos.login GROUP BY users.login ORDER BY repo_count DESC LIMIT 40', \n",
    "    columns=['User', 'Repo']\n",
    ")\n",
    "\n",
    "fig = px.bar(dataframe, x='User', y='Repo', text_auto='.2s', title=\"User and number of repositories.\")\n",
    "fig.show()"
   ]
  },
  {
   "cell_type": "code",
   "execution_count": null,
   "id": "3b08a7f2",
   "metadata": {
    "scrolled": false
   },
   "outputs": [],
   "source": [
    "dataframe = fetch(\n",
    "    'SELECT u.login, SUM(r.stargazers_count) AS avg_stars FROM users u JOIN repos r ON u.login = r.login GROUP BY u.login ORDER BY avg_stars DESC LIMIT 10', \n",
    "    columns=['User', 'Star']\n",
    ")\n",
    "\n",
    "fig = px.pie(dataframe, names='User', values='Star')\n",
    "fig.show()\n",
    "\n",
    "\n",
    "dataframe = fetch(\n",
    "    'SELECT u.login, AVG(r.stargazers_count) AS avg_stars FROM users u JOIN repos r ON u.login = r.login WHERE r.stargazers_count >= 1 GROUP BY u.login ORDER BY avg_stars DESC', \n",
    "    columns=['User', 'Star']\n",
    ")\n",
    "\n",
    "fig = px.bar(dataframe, x='User', y='Star', text_auto='.2s', title=\"AVG of start for each users.\")\n",
    "fig.show()"
   ]
  },
  {
   "cell_type": "code",
   "execution_count": null,
   "id": "2aac75b4",
   "metadata": {},
   "outputs": [],
   "source": [
    "dataframe = fetch(\n",
    "    'SELECT u.login, AVG(r.stargazers_count) AS avg_stars FROM users u JOIN repos r ON u.login = r.login WHERE r.stargazers_count >= 1 AND u.login <> \\'flutter\\' GROUP BY u.login ORDER BY avg_stars DESC LIMIT 10', \n",
    "    columns=['User', 'Star']\n",
    ")\n",
    "\n",
    "fig = px.pie(dataframe, names='User', values='Star')\n",
    "fig.show()"
   ]
  },
  {
   "cell_type": "code",
   "execution_count": null,
   "id": "188351eb",
   "metadata": {
    "scrolled": false
   },
   "outputs": [],
   "source": [
    "dataframe = fetch(\n",
    "    'SELECT language, COUNT(*) AS count FROM repos WHERE language IS NOT NULL GROUP BY language ORDER BY count DESC LIMIT 15', \n",
    "    columns=['Language', 'Value']\n",
    ")\n",
    "\n",
    "fig = px.bar(dataframe, x='Language', y='Value', text_auto='.2s')\n",
    "fig.show()"
   ]
  },
  {
   "cell_type": "code",
   "execution_count": null,
   "id": "56405030",
   "metadata": {
    "scrolled": false
   },
   "outputs": [],
   "source": [
    "dataframe = fetch(\n",
    "    'SELECT license, COUNT(*) AS count FROM repos WHERE license IS NOT NULL GROUP BY license ORDER BY count DESC', \n",
    "    columns=['License', 'Value']\n",
    ")\n",
    "\n",
    "fig = px.bar(dataframe, x='License', y='Value', text_auto='.2s')\n",
    "fig.show()"
   ]
  },
  {
   "cell_type": "code",
   "execution_count": null,
   "id": "aa1765fe",
   "metadata": {},
   "outputs": [],
   "source": []
  },
  {
   "cell_type": "code",
   "execution_count": null,
   "id": "3fd0512a",
   "metadata": {},
   "outputs": [],
   "source": []
  },
  {
   "cell_type": "code",
   "execution_count": null,
   "id": "32f9f3fb",
   "metadata": {},
   "outputs": [],
   "source": []
  }
 ],
 "metadata": {
  "kernelspec": {
   "display_name": "Python 3 (ipykernel)",
   "language": "python",
   "name": "python3"
  },
  "language_info": {
   "codemirror_mode": {
    "name": "ipython",
    "version": 3
   },
   "file_extension": ".py",
   "mimetype": "text/x-python",
   "name": "python",
   "nbconvert_exporter": "python",
   "pygments_lexer": "ipython3",
   "version": "3.10.10"
  }
 },
 "nbformat": 4,
 "nbformat_minor": 5
}
